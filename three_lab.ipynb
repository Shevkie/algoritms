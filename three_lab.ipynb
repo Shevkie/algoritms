{
 "cells": [
  {
   "cell_type": "code",
   "execution_count": 26,
   "metadata": {},
   "outputs": [
    {
     "name": "stdout",
     "output_type": "stream",
     "text": [
      "Корень по методу дихотомии находится в точке x = 0.875954054260254\n"
     ]
    }
   ],
   "source": [
    "from math import *\n",
    "\n",
    "def f(x):\n",
    "    assert x!=0, 'Аргумент не может быть равен нулю'\n",
    "    return x**2 - sin(x)\n",
    "\n",
    "def dyhotomy(a, b, eps):\n",
    "    root = None\n",
    "    while abs(f(b)-f(a)) > eps:\n",
    "        mid = (a+b) / 2\n",
    "        if f(mid) == 0 or abs(f(mid)) < eps:\n",
    "            root = mid\n",
    "            break\n",
    "        elif f(a)*f(mid) < 0:\n",
    "            b = mid\n",
    "        else:\n",
    "            a = mid\n",
    "\n",
    "    if root is None:\n",
    "        print('Корень не найден')\n",
    "    else:\n",
    "        print(f'Корень по методу дихотомии находится в точке x = {root}')\n",
    "\n",
    "dyhotomy(0.0001,200, 0.0009)"
   ]
  },
  {
   "cell_type": "code",
   "execution_count": 27,
   "metadata": {},
   "outputs": [
    {
     "name": "stdout",
     "output_type": "stream",
     "text": [
      "Результат: 0.8767262153961538\n"
     ]
    }
   ],
   "source": [
    "from math import *\n",
    "import numpy as np\n",
    "\n",
    "#функция\n",
    "def F(x):\n",
    "    return x**2 - sin(x)\n",
    " \n",
    "#производная\n",
    "def F1(x):\n",
    "    return 2*x - cos(x)\n",
    " \n",
    " \n",
    "def Method(a,b):\n",
    "    try:\n",
    "        x0=(a+b)/2\n",
    "        xn=F(x0)\n",
    "        xn1=xn-F(xn)/F1(xn)\n",
    "        while abs(xn1-xn)>pow(10,-5):\n",
    "            xn=xn1 #вот так надо было\n",
    "            xn1=xn-F(xn)/F1(xn)\n",
    "        return xn1\n",
    "    except ValueError:\n",
    "        print(\"Value not invalidate\")\n",
    "\n",
    "result = Method(0.0001, 200)\n",
    "print(\"Результат:\", result)\n"
   ]
  }
 ],
 "metadata": {
  "kernelspec": {
   "display_name": "Python 3",
   "language": "python",
   "name": "python3"
  },
  "language_info": {
   "codemirror_mode": {
    "name": "ipython",
    "version": 3
   },
   "file_extension": ".py",
   "mimetype": "text/x-python",
   "name": "python",
   "nbconvert_exporter": "python",
   "pygments_lexer": "ipython3",
   "version": "3.11.3"
  }
 },
 "nbformat": 4,
 "nbformat_minor": 2
}
