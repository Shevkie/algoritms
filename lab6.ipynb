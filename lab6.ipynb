{
 "cells": [
  {
   "cell_type": "markdown",
   "metadata": {},
   "source": [
    "МНОГОМЕРНАЯ ОПТИМИЗАЦИЯ НЕПРЕРЫВНЫХ ФУНКЦИЙ"
   ]
  },
  {
   "cell_type": "code",
   "execution_count": 18,
   "metadata": {},
   "outputs": [],
   "source": [
    "import numpy as np"
   ]
  },
  {
   "cell_type": "markdown",
   "metadata": {},
   "source": [
    "Целью данного алгоритма является нахождение оптимального решения задачи линейного программирования. Мы сталкиваемся с задачей оптимизации, где требуется максимизировать или минимизировать линейную целевую функцию при соблюдении линейных ограничений. "
   ]
  },
  {
   "cell_type": "code",
   "execution_count": 19,
   "metadata": {},
   "outputs": [],
   "source": [
    "c = [1, 1, 0, 0, 0]\n",
    "A = [[-1, 1, 1, 0, 0],\n",
    "    [ 1, 0, 0, 1, 0],\n",
    "    [ 0, 1, 0, 0, 1]]\n",
    "b = [2, 4, 4]"
   ]
  },
  {
   "cell_type": "code",
   "execution_count": 20,
   "metadata": {},
   "outputs": [],
   "source": [
    "# Преобразуем данные в единую матрицу\n",
    "# Данный метод преобразует исходные данные в единую матрицу, \n",
    "# представляющую собой расширенную форму задачи линейного программирования.\n",
    "def to_table(c, A, b):\n",
    "    xb = [eq + [x] for eq, x in zip(A, b)]\n",
    "    z = c + [0]\n",
    "    return xb + [z]"
   ]
  },
  {
   "cell_type": "code",
   "execution_count": 21,
   "metadata": {},
   "outputs": [],
   "source": [
    "# Проверим, можем ли найти базисное решение\n",
    "# Этот метод проверяет, можно ли улучшить текущее базисное решение, исходя из последней строки таблицы.\n",
    "def can_be_improved(table):\n",
    "    z = table[-1]\n",
    "    return any(x > 0 for x in z[:-1])"
   ]
  },
  {
   "cell_type": "code",
   "execution_count": 22,
   "metadata": {},
   "outputs": [],
   "source": [
    "# Найдем границу базисного решения\n",
    "# Метод определяет позицию опорного элемента (pivot) в таблице, что является ключевым шагом симплекс-метода.\n",
    "def get_pivot_position(table):\n",
    "    z = table[-1]\n",
    "    column = next(i for i, x in enumerate(z[:-1]) if x > 0)\n",
    "    \n",
    "    restrictions = []\n",
    "    for eq in table[:-1]:\n",
    "        el = eq[column]\n",
    "        restrictions.append(float('inf') if el <= 0 else eq[-1] / el)\n",
    "\n",
    "    row = restrictions.index(min(restrictions))\n",
    "    return row, column"
   ]
  },
  {
   "cell_type": "code",
   "execution_count": 23,
   "metadata": {},
   "outputs": [],
   "source": [
    "# Выполним шаг, вычислив новое базисное решение\n",
    "# Выполняет шаг симплекс-метода, осуществляя \"поворот\" к новому базисному решению.\n",
    "def pivot_step(tableau, pivot_position):\n",
    "    new_tableau = [[] for _ in tableau]\n",
    "    \n",
    "    i, j = pivot_position\n",
    "    pivot_value = tableau[i][j]\n",
    "    new_tableau[i] = np.array(tableau[i]) / pivot_value\n",
    "    \n",
    "    for eq_i in range(len(tableau)):\n",
    "        if eq_i != i:\n",
    "            multiplier = np.array(new_tableau[i]) * tableau[eq_i][j]\n",
    "            new_tableau[eq_i] = np.array(tableau[eq_i]) - multiplier\n",
    "   \n",
    "    return new_tableau"
   ]
  },
  {
   "cell_type": "code",
   "execution_count": 24,
   "metadata": {},
   "outputs": [],
   "source": [
    "# Проверяет, является ли столбец базисным, что важно для определения оптимальности решения.\n",
    "def is_basic(column):\n",
    "    return sum(column) == 1 and len([c for c in column if c == 0]) == len(column) - 1\n",
    "\n",
    "# Извлекает решение из конечной таблицы симплекс-метода.\n",
    "def get_solution(tableau):\n",
    "    columns = np.array(tableau).T\n",
    "    solutions = []\n",
    "    for column in columns:\n",
    "        solution = 0\n",
    "        if is_basic(column):\n",
    "            one_index = column.tolist().index(1)\n",
    "            solution = columns[-1][one_index]\n",
    "        solutions.append(solution)\n",
    "        \n",
    "    return solutions"
   ]
  },
  {
   "cell_type": "code",
   "execution_count": 25,
   "metadata": {},
   "outputs": [],
   "source": [
    "# Запускает алгоритм симплекс-метода с заданными коэффициентами и ограничениями.\n",
    "def simplex(c, A, b):\n",
    "    table = to_table(c, A, b)\n",
    "\n",
    "    while can_be_improved(table):\n",
    "        pivot_position = get_pivot_position(table)\n",
    "        table = pivot_step(table, pivot_position)\n",
    "\n",
    "    return get_solution(table)"
   ]
  },
  {
   "cell_type": "code",
   "execution_count": 26,
   "metadata": {},
   "outputs": [
    {
     "data": {
      "text/plain": [
       "[4.0, 4.0, 2.0, 0, 0, 0]"
      ]
     },
     "execution_count": 26,
     "metadata": {},
     "output_type": "execute_result"
    }
   ],
   "source": [
    "# алгоритм завершает свою работу, когда текущее решение становится оптимальным, и результат выводится в переменной solution\n",
    "solution = simplex(c, A, b)\n",
    "solution"
   ]
  }
 ],
 "metadata": {
  "kernelspec": {
   "display_name": "Python 3 (ipykernel)",
   "language": "python",
   "name": "python3"
  },
  "language_info": {
   "codemirror_mode": {
    "name": "ipython",
    "version": 3
   },
   "file_extension": ".py",
   "mimetype": "text/x-python",
   "name": "python",
   "nbconvert_exporter": "python",
   "pygments_lexer": "ipython3",
   "version": "3.11.3"
  }
 },
 "nbformat": 4,
 "nbformat_minor": 2
}
