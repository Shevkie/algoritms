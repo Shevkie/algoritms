{
 "cells": [
  {
   "cell_type": "markdown",
   "id": "59ca9ff7",
   "metadata": {},
   "source": [
    "МНОГОМЕРНАЯ ДИСКРЕТНАЯ ОПТИМИЗАЦИЯ"
   ]
  },
  {
   "cell_type": "code",
   "execution_count": 2,
   "id": "105bc9bd",
   "metadata": {},
   "outputs": [
    {
     "name": "stdout",
     "output_type": "stream",
     "text": [
      "Оптимальный путь: [0, 1, 3, 2, 0]\n",
      "Оптимальная стоимость: 80\n"
     ]
    }
   ],
   "source": [
    "def tsp_greedy(distances):\n",
    "    # Число городов в задаче TSP\n",
    "    n = len(distances)\n",
    "    \n",
    "    # Множество непосещенных городов (от 1 до n-1)\n",
    "    unvisited_cities = set(range(1, n))\n",
    "    \n",
    "    # Текущий город - начальный город\n",
    "    current_city = 0\n",
    "    \n",
    "    # Список маршрута, начинающийся с начального города\n",
    "    tour = [current_city]\n",
    "\n",
    "    # Цикл, выполняющийся, пока есть непосещенные города\n",
    "    while unvisited_cities:\n",
    "        # Выбираем ближайший непосещенный город\n",
    "        next_city = min(unvisited_cities, key=lambda city: distances[current_city][city])\n",
    "        \n",
    "        # Добавляем выбранный город в маршрут\n",
    "        tour.append(next_city)\n",
    "        \n",
    "        # Удаляем выбранный город из множества непосещенных\n",
    "        unvisited_cities.remove(next_city)\n",
    "        \n",
    "        # Обновляем текущий город\n",
    "        current_city = next_city\n",
    "\n",
    "    # Завершаем маршрут, добавляя начальный город в конец\n",
    "    tour.append(tour[0])\n",
    "    \n",
    "    # Вычисляем общую стоимость маршрута\n",
    "    total_cost = sum(distances[tour[i-1]][tour[i]] for i in range(1, n+1))\n",
    "\n",
    "    # Возвращаем оптимальный маршрут и его стоимость\n",
    "    return tour, total_cost\n",
    "\n",
    "# Пример расстояний между городами\n",
    "distances = [[0, 10, 15, 20],\n",
    "             [10, 0, 35, 25],\n",
    "             [15, 35, 0, 30],\n",
    "             [20, 25, 30, 0]]\n",
    "\n",
    "optimal_path, optimal_cost = tsp_greedy(distances)\n",
    "\n",
    "print(\"Оптимальный путь:\", optimal_path)\n",
    "print(\"Оптимальная стоимость:\", optimal_cost)\n"
   ]
  }
 ],
 "metadata": {
  "kernelspec": {
   "display_name": "Python 3 (ipykernel)",
   "language": "python",
   "name": "python3"
  },
  "language_info": {
   "codemirror_mode": {
    "name": "ipython",
    "version": 3
   },
   "file_extension": ".py",
   "mimetype": "text/x-python",
   "name": "python",
   "nbconvert_exporter": "python",
   "pygments_lexer": "ipython3",
   "version": "3.11.3"
  }
 },
 "nbformat": 4,
 "nbformat_minor": 5
}
